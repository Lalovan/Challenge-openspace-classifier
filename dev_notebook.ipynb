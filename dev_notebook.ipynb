{
 "cells": [
  {
   "cell_type": "markdown",
   "id": "46ccd25f",
   "metadata": {},
   "source": [
    "# Open Space Organizer\n",
    "\n",
    "We want to create a program that assigns 24 people to 6 tables in an openspace. Before getting started, take inventory what do we need:\n",
    "\n",
    "- People\n",
    "- Seats & Tables\n",
    "- An OpenSpace\n",
    "\n",
    "It's a good practice to start simple while you grasp the logic of the program you are trying to build and test often. For us this can translate to,\n",
    "\n",
    "- People -> List of Names (later we can figure out how to use a file)\n",
    "- Seats & Tables -> Class\n",
    "- An OpenSpace -> Class\n",
    "\n",
    "Below I've created a list of your new colleagues for reference!"
   ]
  },
  {
   "cell_type": "code",
   "execution_count": null,
   "id": "d2272fa0",
   "metadata": {},
   "outputs": [],
   "source": [
    "new_collegues = [\"Aleksei\",\"Amine\",\"Anna\",\"Astha\",\"Brigitta\",\n",
    "                 \"Bryan\",\"Ena\",\"Esra\",\"Faranges\",\"Frédéric\",\n",
    "                 \"Hamideh\",\"Héloïse\",\"Imran\",\"Intan K.\",\n",
    "                 \"Jens\",\"Kristin\",\"Michiel\",\"Nancy\",\"Pierrick\",\n",
    "                 \"Sandrine\",\"Tim\",\"Viktor\",\"Welederufeal\",\"Živile\"]"
   ]
  },
  {
   "cell_type": "markdown",
   "id": "5331eef9",
   "metadata": {},
   "source": [
    "## Step 1: Build a Seat\n",
    "\n",
    "Create a class called `Seat` with two attributes:\n",
    "\n",
    "- `free` which is a boolean.\n",
    "- `occupant` which is a string.\n",
    "\n",
    "and 2 functions : \n",
    "\n",
    "- `set_occupant(name)` which allows the program to assign someone a seat if it's free\n",
    "- `remove_occupant()` which  remove someone from a seat and return the name of the person occupying the seat before\n"
   ]
  },
  {
   "cell_type": "code",
   "execution_count": null,
   "id": "b2206876",
   "metadata": {},
   "outputs": [],
   "source": [
    "\n",
    "class Seat:\n",
    "    \"\"\"\" This class is representing a seat that can be occupied \n",
    "    Attributes:\n",
    "    Methods:\n",
    "       \"\"\"\n",
    "    def __init__(self) -> None:\n",
    "        self.free = True\n",
    "        self.occupant = \"\"\n",
    "\n",
    "#Function that allows the program to assign someone a seat if it is free.  \n",
    "\n",
    "    def set_occupant(self,name: str) -> None:\n",
    "        if self.free == True:\n",
    "            self.occupant = name\n",
    "            self.free = False\n",
    "            print(f\"{name} is occupying the seat.\")\n",
    "        else:\n",
    "            print(f\"The seat is occupied by {self.occupant}\")\n",
    "                \n",
    "#Function that removes someone from a seat and return the name of the person occupying the seat before\n",
    "    \n",
    "    def remove_occupant(self) -> str:\n",
    "        if self.free == False:\n",
    "            prev_occupant = self.occupant\n",
    "            self.occupant = \"\" \n",
    "            self.free = True\n",
    "            print (f\"{prev_occupant} just left and the seat is free.\")\n",
    "            return prev_occupant # storing the name of the previous occupant\n",
    "        else: \n",
    "            print(\"The seat is already free.\")\n",
    "        "
   ]
  },
  {
   "cell_type": "code",
   "execution_count": 34,
   "id": "97ec69ff",
   "metadata": {},
   "outputs": [
    {
     "name": "stdout",
     "output_type": "stream",
     "text": [
      "Anna is occupying the seat.\n",
      "The seat is occupied by Anna\n",
      "Anna just left and the seat is free.\n"
     ]
    }
   ],
   "source": [
    "# Test your code (assign yourself you a Seat)\n",
    "seat1 = Seat()\n",
    "seat1.set_occupant(\"Anna\")\n",
    "seat1.set_occupant(\"Zivile\")\n",
    "prev_occupant = seat1.remove_occupant()\n"
   ]
  },
  {
   "cell_type": "markdown",
   "id": "12d6834f",
   "metadata": {},
   "source": [
    "What is the input and the output of your Seat class? Does it make sense?\n",
    "\n",
    "## Step 2: Build a Table\n",
    "\n",
    "Create a class `Table` with ? attributes:\n",
    "\n",
    "- `capacity` which is an integer\n",
    "- `seats` which is a list of `Seat` objects (size = `capacity`)\n",
    "\n",
    "and 3 functions : \n",
    "- `has_free_spot()` that returns a boolean (True if a spot is available)\n",
    "- `assign_seat(name)` that places someone at the table\n",
    "- `left_capacity()` that returns an integer\n",
    "\n",
    "Question: Which attributes make sense to give? For now let's say we want to build 6 tables with 4 seats.\n"
   ]
  },
  {
   "cell_type": "code",
   "execution_count": null,
   "id": "d64b76c8",
   "metadata": {},
   "outputs": [],
   "source": [
    "# Your code here\n",
    "\n",
    "class Table:\n",
    "    \"\"\" DESCRIPTION\"\"\"\n",
    "\n",
    "    def __init__(self, capacity: int): \n",
    "       self.capacity = 4\n",
    "       self.seats = [Seat() for i in range(capacity)]\n",
    "\n",
    "    def has_free_spot(self):\n",
    "        for seat in self.seats:\n",
    "            if seat.free:\n",
    "                return True\n",
    "        return False\n",
    "            \n",
    "    def assign_seat(self, name):\n",
    "        for seat in self.seats:\n",
    "            if seat.free:\n",
    "                seat.set_occupant(name)\n",
    "                break\n",
    "        #random shuffle?\n",
    "        else: \n",
    "            print(\"No more free seats.\")\n",
    "\n",
    "\n",
    "    def left_capacity(self):\n",
    "        capacity = 0\n",
    "        for seat in self.seats:\n",
    "            if seat.free:\n",
    "                capacity +=1\n",
    "        print(f\"There are {capacity} free spots.\")\n",
    "                "
   ]
  },
  {
   "cell_type": "code",
   "execution_count": 48,
   "id": "108ce578",
   "metadata": {},
   "outputs": [
    {
     "name": "stdout",
     "output_type": "stream",
     "text": [
      "Anna is occupying the seat.\n",
      "Zivile is occupying the seat.\n",
      "Nancy is occupying the seat.\n",
      "Victor is occupying the seat.\n",
      "No more free seats.\n",
      "There are 0 free spots.\n"
     ]
    }
   ],
   "source": [
    "# Test your code (assign the colleagues at your table to a Table)\n",
    "table1 = Table(4)\n",
    "table1.assign_seat(\"Anna\")\n",
    "table1.assign_seat(\"Zivile\")\n",
    "table1.assign_seat(\"Nancy\")\n",
    "table1.assign_seat(\"Victor\")\n",
    "table1.assign_seat(\"Kristin\")\n",
    "table1.left_capacity()"
   ]
  },
  {
   "cell_type": "markdown",
   "id": "75f177c6",
   "metadata": {},
   "source": [
    "Does the output of you test make sense? Check that each method returns the correct value."
   ]
  },
  {
   "cell_type": "markdown",
   "id": "5b395b9e",
   "metadata": {},
   "source": [
    "## Step 3: Build an OpenSpace\n",
    "\n",
    "Create a class `Openspace` that contains these attributes:\n",
    "\n",
    "- `tables` which is a list of `Table`. _(you will need to import `Table` from `table.py`)_. \n",
    "- `number_of_tables` which is an integer.\n",
    "\n",
    "And some methods:\n",
    "\n",
    "- `organize(names)` that will:\n",
    "  - **randomly** assign people to `Seat` objects in the different `Table` objects.\n",
    "- `display()` display the different tables and there occupants in a nice and readable way\n",
    "- `store(filename)` store the repartition in an file"
   ]
  },
  {
   "cell_type": "code",
   "execution_count": null,
   "id": "1eed7151",
   "metadata": {},
   "outputs": [],
   "source": [
    "# Your code here\n",
    "import random\n",
    "\n",
    "class Openspace:\n",
    "    def __init__(self, number_of_tables:int):\n",
    "        self.tables = [Table(4) for i in range(number_of_tables)]\n",
    "        self.number_of_tables= 6\n",
    "\n",
    "    def organize(self, names = None):\n",
    "        import random\n",
    "        \n",
    "        if names is None:\n",
    "            names = [\"Aleksei\",\"Amine\",\"Anna\",\"Astha\",\"Brigitta\",\n",
    "                 \"Bryan\",\"Ena\",\"Esra\",\"Faranges\",\"Frédéric\",\n",
    "                 \"Hamideh\",\"Héloïse\",\"Imran\",\"Intan K.\",\n",
    "                 \"Jens\",\"Kristin\",\"Michiel\",\"Nancy\",\"Pierrick\",\n",
    "                 \"Sandrine\",\"Tim\",\"Viktor\",\"Welederufeal\",\"Živile\"]\n",
    "        \n",
    "        random.shuffle(names)\n",
    "        \n",
    "        for name in names:\n",
    "            for table in self.tables:\n",
    "                if table.has_free_spot():\n",
    "                    table.assign_seat(name)\n",
    "                    break\n",
    "\n",
    "    def display(self):\n",
    "        for i, table in enumerate(self.tables, start = 1):\n",
    "            print(f\"Table {i}:\")\n",
    "            for seat in table.seats:\n",
    "                print(\"  \", seat.occupant or \"Empty\")\n",
    "            print()\n",
    "\n",
    "\n",
    "    def store(self,filename):\n",
    "        with open(filename, \"w\") as file:\n",
    "            for i, table in enumerate(self.tables, start = 1):\n",
    "                file.write(f\"Table{i}:\\n\")\n",
    "                for seat in table.seats:\n",
    "                    file.write(f\"  {seat.occupant or \"Empty\"}\\n\")\n",
    "                file.write(\"\\n\")\n",
    "\n",
    "    "
   ]
  },
  {
   "cell_type": "code",
   "execution_count": 59,
   "id": "6c20824f",
   "metadata": {},
   "outputs": [
    {
     "name": "stdout",
     "output_type": "stream",
     "text": [
      "Esra is occupying the seat.\n",
      "Welederufeal is occupying the seat.\n",
      "Jens is occupying the seat.\n",
      "Astha is occupying the seat.\n",
      "Héloïse is occupying the seat.\n",
      "Pierrick is occupying the seat.\n",
      "Viktor is occupying the seat.\n",
      "Faranges is occupying the seat.\n",
      "Ena is occupying the seat.\n",
      "Bryan is occupying the seat.\n",
      "Kristin is occupying the seat.\n",
      "Sandrine is occupying the seat.\n",
      "Aleksei is occupying the seat.\n",
      "Imran is occupying the seat.\n",
      "Intan K. is occupying the seat.\n",
      "Frédéric is occupying the seat.\n",
      "Nancy is occupying the seat.\n",
      "Amine is occupying the seat.\n",
      "Tim is occupying the seat.\n",
      "Živile is occupying the seat.\n",
      "Brigitta is occupying the seat.\n",
      "Michiel is occupying the seat.\n",
      "Anna is occupying the seat.\n",
      "Hamideh is occupying the seat.\n",
      "Table 1:\n",
      "   Esra\n",
      "   Welederufeal\n",
      "   Jens\n",
      "   Astha\n",
      "\n",
      "Table 2:\n",
      "   Héloïse\n",
      "   Pierrick\n",
      "   Viktor\n",
      "   Faranges\n",
      "\n",
      "Table 3:\n",
      "   Ena\n",
      "   Bryan\n",
      "   Kristin\n",
      "   Sandrine\n",
      "\n",
      "Table 4:\n",
      "   Aleksei\n",
      "   Imran\n",
      "   Intan K.\n",
      "   Frédéric\n",
      "\n",
      "Table 5:\n",
      "   Nancy\n",
      "   Amine\n",
      "   Tim\n",
      "   Živile\n",
      "\n",
      "Table 6:\n",
      "   Brigitta\n",
      "   Michiel\n",
      "   Anna\n",
      "   Hamideh\n",
      "\n"
     ]
    }
   ],
   "source": [
    "# Test your code (assign everyone in the class to a table)\n",
    "openspace1 = Openspace(6)\n",
    "openspace1.organize([\"Aleksei\",\"Amine\",\"Anna\",\"Astha\",\"Brigitta\",\n",
    "                 \"Bryan\",\"Ena\",\"Esra\",\"Faranges\",\"Frédéric\",\n",
    "                 \"Hamideh\",\"Héloïse\",\"Imran\",\"Intan K.\",\n",
    "                 \"Jens\",\"Kristin\",\"Michiel\",\"Nancy\",\"Pierrick\",\n",
    "                 \"Sandrine\",\"Tim\",\"Viktor\",\"Welederufeal\",\"Živile\"])\n",
    "openspace1.display()"
   ]
  },
  {
   "cell_type": "markdown",
   "id": "0d3923a8",
   "metadata": {},
   "source": [
    "Hurray! You have the algorithm logic working. Next steps we transform this into some scripts! **Big note:** Once you move to the scrips you may need to adapt your logic, don't fret this is normal!"
   ]
  }
 ],
 "metadata": {
  "kernelspec": {
   "display_name": "Python 3",
   "language": "python",
   "name": "python3"
  },
  "language_info": {
   "codemirror_mode": {
    "name": "ipython",
    "version": 3
   },
   "file_extension": ".py",
   "mimetype": "text/x-python",
   "name": "python",
   "nbconvert_exporter": "python",
   "pygments_lexer": "ipython3",
   "version": "3.13.7"
  }
 },
 "nbformat": 4,
 "nbformat_minor": 5
}
